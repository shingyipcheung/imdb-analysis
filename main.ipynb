{
 "cells": [
  {
   "cell_type": "markdown",
   "id": "3a38db0e-b421-4cd9-9479-ad26928f96ce",
   "metadata": {},
   "source": [
    "## Web Scraping"
   ]
  },
  {
   "cell_type": "markdown",
   "id": "302bc1a0-9af2-45c7-bc2b-fd2af46374d3",
   "metadata": {},
   "source": [
    "The assignment is designed to scrape movie details from IMDb's top 100 movies list. Specifically, it targets the list available at the IMDb URL that showcases the top-rated movies. The scraper collects details from the first three pages of this list, potentially gathering data on up to 100 movies, assuming each page lists 50 movies. The main logic at the end of the script loops through the first three pages of the IMDb list and aggregates all the scraped movie details into a single list named all_movies."
   ]
  },
  {
   "cell_type": "code",
   "execution_count": null,
   "id": "1c53a5da-eb70-420f-a679-7778e31687ca",
   "metadata": {},
   "outputs": [],
   "source": [
    "import requests\n",
    "from bs4 import BeautifulSoup\n",
    "import pandas as pd\n",
    "\n",
    "BASE_URL = \"https://www.imdb.com/search/title/?groups=top_100&start={}\"\n",
    "HEADERS = {\n",
    "    \"User-Agent\": \"Mozilla/5.0 (Windows NT 10.0; Win64; x64) AppleWebKit/537.36 (KHTML, like Gecko) Chrome/91.0.4472.124 Safari/537.36\"\n",
    "}\n",
    "\n",
    "def scrape_page(page_number):\n",
    "    start = (page_number - 1) * 50 + 1\n",
    "    response = requests.get(BASE_URL.format(start), headers=HEADERS)\n",
    "\n",
    "    if response.status_code != 200:\n",
    "        print(f\"Failed to retrieve page {page_number}\")\n",
    "        return []\n",
    "\n",
    "    soup = BeautifulSoup(response.content, 'html.parser')\n",
    "\n",
    "    # find all movie containers on the page\n",
    "    movie_containers = soup.find_all('div', class_='lister-item mode-advanced')\n",
    "\n",
    "    movie_data = []\n",
    "    \n",
    "    for movie in movie_containers:\n",
    "        # extract movie name, ID, year, rating, etc.\n",
    "        name = movie.h3.a.text\n",
    "        movie_id = movie.h3.a['href'].split('/')[2]\n",
    "        year = movie.h3.find('span', class_='lister-item-year text-muted unbold').text\n",
    "        rating = float(movie.find('div', class_='inline-block ratings-imdb-rating').strong.text)\n",
    "        metascore = movie.find('div', class_='inline-block ratings-metascore')\n",
    "        metascore = int(metascore.span.text.strip()) if metascore else None\n",
    "        runtime = movie.find('span', class_='runtime').text if movie.find('span', class_='runtime') else None\n",
    "        genres = movie.find('span', class_='genre').text.strip() if movie.find('span', class_='genre') else None\n",
    "\n",
    "        # extract director and star names\n",
    "        director_stars = movie.find('p', class_='').find_all('a')\n",
    "        director = director_stars[0].text if director_stars else None\n",
    "        stars = ', '.join([star.text for star in director_stars[1:]]) if director_stars else None\n",
    "        \n",
    "        movie_data.append((name, movie_id, year, rating, metascore, runtime, genres, director, stars))\n",
    "    # return the list of movie details\n",
    "    return movie_data\n",
    "\n",
    "# create an empty list to store details of all movies\n",
    "all_movies = []\n",
    "\n",
    "# scrape the first three IMDb pages for movie details\n",
    "for page in range(1, 3):\n",
    "    all_movies.extend(scrape_page(page))"
   ]
  },
  {
   "cell_type": "code",
   "execution_count": null,
   "id": "df5646ad-d8be-4835-98d9-806355005b82",
   "metadata": {},
   "outputs": [],
   "source": [
    "df = pd.DataFrame(all_movies, columns=['Name', 'Movie_ID', 'Year', 'Rating', 'Metascore', 'Runtime', 'Genres', 'Director', 'Stars'])\n",
    "\n",
    "print(df)"
   ]
  },
  {
   "cell_type": "markdown",
   "id": "a40dc5a9-8f2c-4a79-a58d-aa66330a759f",
   "metadata": {},
   "source": [
    "## Preprocessing"
   ]
  },
  {
   "cell_type": "markdown",
   "id": "04649b6d-2393-404e-88bb-f8d3c7446fa3",
   "metadata": {},
   "source": [
    "Several columns do not have proper type and format. We need to standardizes the format of several columns: extracting the numerical year from a string, ensuring the metascore is a floating-point number, converting runtime from a string to an integer (by removing \"min\"), and splitting genre and star listings into separate lists for easier analysis. This preprocessing ensures the data is in a consistent and usable format for subsequent tasks or analyses."
   ]
  },
  {
   "cell_type": "code",
   "execution_count": null,
   "id": "95a99f13-02a6-417c-a756-9cd7b87cbfd3",
   "metadata": {},
   "outputs": [],
   "source": [
    "# Preprocessing\n",
    "df[\"Year\"] = df[\"Year\"].str.extract(\"(\\d+)\").astype(int)\n",
    "df[\"Metascore\"] = df[\"Metascore\"].astype(\n",
    "    float\n",
    ")  # It's already a float, but this ensures it stays that way.\n",
    "df[\"Runtime\"] = df[\"Runtime\"].str.replace(\" min\", \"\").astype(int)\n",
    "df[\"Genres\"] = df[\"Genres\"].str.split(\", \")\n",
    "df[\"Stars\"] = df[\"Stars\"].str.split(\", \")\n",
    "print(df)"
   ]
  },
  {
   "cell_type": "code",
   "execution_count": null,
   "id": "77235b23-6c77-4e34-a9d1-496e593b9803",
   "metadata": {},
   "outputs": [],
   "source": [
    "# save the result\n",
    "df.to_csv(\"imdb_movies.csv\", index=False)\n",
    "\n",
    "# load the csv\n",
    "movies_df = pd.read_csv(\"imdb_movies.csv\")\n",
    "\n",
    "# these columns are string format, use eval to convert them into python objects\n",
    "movies_df[\"Genres\"] = movies_df[\"Genres\"].apply(eval)\n",
    "movies_df[\"Stars\"] = movies_df[\"Stars\"].apply(eval)"
   ]
  },
  {
   "cell_type": "markdown",
   "id": "79dc26b9-cfad-4937-ad42-5dfce0ba850e",
   "metadata": {},
   "source": [
    "Given this structure, we can explore various angles:\r\n",
    "\r\n",
    "1. Distribution of movie ratings and metascores over the years.\r\n",
    "2. The most common genres and how they correlate with ratings.\r\n",
    "3. Directors with the highest average movie ratings.\r\n",
    "4. The relationship between movie runtime and its rating.\r\n",
    "5. Let's begin by understanding the distribution and potential missing values in the dataset."
   ]
  },
  {
   "cell_type": "code",
   "execution_count": null,
   "id": "c1a40986-63b2-4d44-b967-ed8e79b0f1a5",
   "metadata": {},
   "outputs": [],
   "source": [
    "# Check for missing values in the dataset\n",
    "missing_values = movies_df.isnull().sum()\n",
    "\n",
    "# Get some basic statistics from the numerical columns\n",
    "stats = movies_df.describe()\n",
    "\n",
    "missing_values, stats"
   ]
  },
  {
   "cell_type": "markdown",
   "id": "6cabdbac-1e3b-4553-856c-91f9e57581b7",
   "metadata": {},
   "source": [
    "Findings:\n",
    "\n",
    "1. **Missing Values**: There are 3 missing values in the `Metascore` column. We might need to address this depending on the type of analysis we're doing.\n",
    "\n",
    "2. **Statistics**:\n",
    "   - The dataset contains movies released between 1931 and 2023.\n",
    "   - The average IMDb rating is around 8.52, with a minimum of 8.3 and a maximum of 9.3.\n",
    "   - The average metascore is approximately 83.2, with a minimum score of 57 and a maximum of 100.\n",
    "   - The average runtime of the movies is about 135.67 minutes, ranging from 81 to 229 minutes."
   ]
  },
  {
   "cell_type": "markdown",
   "id": "7d5e6f12-64be-4767-b11f-293069fc9fd4",
   "metadata": {},
   "source": [
    "## Visualization"
   ]
  },
  {
   "cell_type": "markdown",
   "id": "3d965bc5-77c7-4101-a9fa-d3482faa943e",
   "metadata": {},
   "source": [
    "### Visualize the distribution of movie ratings and metascores over the years"
   ]
  },
  {
   "cell_type": "code",
   "execution_count": null,
   "id": "57080ba2-13e8-433c-a0cd-8ea5f6917377",
   "metadata": {},
   "outputs": [],
   "source": [
    "import matplotlib.pyplot as plt\n",
    "import seaborn as sns\n",
    "\n",
    "# Initialize the figure\n",
    "plt.figure(figsize=(15, 6))\n",
    "\n",
    "# Plotting Ratings and Metascores over the years\n",
    "sns.lineplot(data=movies_df, x=\"Year\", y=\"Rating\", label=\"Rating\", marker=\"o\")\n",
    "sns.lineplot(data=movies_df, x=\"Year\", y=\"Metascore\", label=\"Metascore\", marker=\"o\")\n",
    "\n",
    "plt.title(\"Movie Ratings and Metascores over the Years\")\n",
    "plt.ylabel(\"Score\")\n",
    "plt.xlabel(\"Year\")\n",
    "plt.legend()\n",
    "plt.tight_layout()\n",
    "plt.show()"
   ]
  },
  {
   "cell_type": "markdown",
   "id": "2e849a40-3bd4-4fa1-af77-e64db8287d33",
   "metadata": {},
   "source": [
    "Findings:\n",
    "\n",
    "**Consistency in Ratings**: IMDb ratings for the top movies have been consistently high, hovering around the 8-9 range. This is expected since we are likely looking at top-rated movies on IMDb.\n",
    "\n",
    "**Variation in Metascores**: While IMDb ratings have been relatively stable, metascores show more variation. Some years have movies with notably high metascores, while others see a drop. This suggests that critic reviews (reflected in the metascore) might differ from general audience opinions at times.\n",
    "\n",
    "In the recent years (around 2020 onwards), there's a noticeable increase in both IMDb ratings and metascores, indicating a trend of highly regarded movies."
   ]
  },
  {
   "cell_type": "markdown",
   "id": "a455e7ac-e99b-489a-b935-8723cb8fbca7",
   "metadata": {},
   "source": [
    "### The most common genres and how they correlate with ratings"
   ]
  },
  {
   "cell_type": "code",
   "execution_count": null,
   "id": "e49966c8-12a6-4446-b587-696678575263",
   "metadata": {},
   "outputs": [],
   "source": [
    "genre_counts = movies_df[\"Genres\"].explode().value_counts()\n",
    "\n",
    "sns.barplot(y=genre_counts.index, x=genre_counts.values)\n",
    "plt.title(\"Most Common Genres in the Dataset\")\n",
    "plt.xlabel(\"Number of Movies\")\n",
    "plt.ylabel(\"Genres\")\n",
    "plt.tight_layout()\n",
    "plt.show()"
   ]
  },
  {
   "cell_type": "markdown",
   "id": "a6e602aa-028b-45fa-b9bd-7547188e32fd",
   "metadata": {},
   "source": [
    "Findings:\r\n",
    "\r\n",
    "**Drama**: The genre \"Drama\" is by far the most prevalent in the dataset, indicating that many top-rated movies on IMDb are dramas or have dramatic elements.\r\n",
    "\r\n",
    "**Action & Adventure**: These genres are also quite common, suggesting that audiences and critics appreciate movies that provide thrilling experiences.\r\n",
    "\r\n",
    "**Variety of Genres**: While some genres like Biography, Crime, and History appear less frequently, their presence indicates that the dataset encompasses a diverse range of movie types."
   ]
  },
  {
   "cell_type": "markdown",
   "id": "9f0aa74b-147c-420e-b140-9ab116ddd85b",
   "metadata": {},
   "source": [
    "### Average rating for each genre"
   ]
  },
  {
   "cell_type": "code",
   "execution_count": null,
   "id": "83070ffe-e7eb-482a-9f7b-f7692926b053",
   "metadata": {},
   "outputs": [],
   "source": [
    "# calculating average ratings for each genre\n",
    "genres_list = genre_counts.index.tolist()\n",
    "average_ratings = {}\n",
    "\n",
    "for genre in genres_list:\n",
    "    avg_rating = movies_df[movies_df[\"Genres\"].apply(lambda x: genre in x)][\n",
    "        \"Rating\"\n",
    "    ].mean()\n",
    "    average_ratings[genre] = avg_rating\n",
    "\n",
    "# sorting genres by average rating\n",
    "sorted_genres = sorted(average_ratings, key=average_ratings.get, reverse=True)\n",
    "\n",
    "sns.barplot(\n",
    "    y=list(sorted_genres),\n",
    "    x=[average_ratings[genre] for genre in sorted_genres],\n",
    "    palette=\"viridis\",\n",
    ")\n",
    "plt.title(\"Average IMDb Rating by Genre\")\n",
    "plt.xlabel(\"Average Rating\")\n",
    "plt.ylabel(\"Genres\")\n",
    "plt.tight_layout()\n",
    "plt.show()"
   ]
  },
  {
   "cell_type": "markdown",
   "id": "de005d6e-9df5-4929-8148-25233f59e011",
   "metadata": {},
   "source": [
    "Findings\n",
    "\n",
    "**Consistently High Ratings**: All genres maintain high average ratings, hovering around the 8.4 to 8.7 range. This is in line with our initial observation of the dataset containing top-rated movies.\r\n",
    "\r\n",
    "**Leading Genres**: Movies classified under \"Biography\", \"History\", and \"Animation\" seem to have slightly higher average ratings. This could imply that audiences particularly appreciate well-crafted biographical or historical narratives and animated features.\r\n",
    "\r\n",
    "**Diverse Appreciation**: Even genres with fewer occurrences, such as \"Fantasy\" or \"Family\", hold their own in terms of ratings, suggesting that genre alone doesn't necessarily dictate a movie's reception."
   ]
  },
  {
   "cell_type": "markdown",
   "id": "6daa81c5-9cef-40d3-887d-676eb9b50549",
   "metadata": {},
   "source": [
    "### Directors with the highest average movie ratings (Min. 3 Movies)"
   ]
  },
  {
   "cell_type": "code",
   "execution_count": null,
   "id": "9ab18e02-293d-4a45-8ad1-cd6f38bbc07f",
   "metadata": {},
   "outputs": [],
   "source": [
    "# group by directors and compute mean rating and count of movies for each director\n",
    "directors_stats = (\n",
    "    movies_df.groupby(\"Director\").agg({\"Rating\": \"mean\", \"Name\": \"count\"}).reset_index()\n",
    ")\n",
    "directors_stats.columns = [\"Director\", \"Average Rating\", \"Number of Movies\"]\n",
    "\n",
    "# filter directors with at least 3 movies\n",
    "top_directors = directors_stats[directors_stats[\"Number of Movies\"] >= 3]\n",
    "\n",
    "# top 10 directors with the highest average rating\n",
    "top_10_directors = top_directors.sort_values(by=\"Average Rating\", ascending=False).head(\n",
    "    10\n",
    ")\n",
    "\n",
    "# Plot\n",
    "sns.barplot(data=top_10_directors, x=\"Average Rating\", y=\"Director\", palette=\"magma\")\n",
    "plt.title(\"Top 10 Directors with Highest Average Rating (Min. 3 Movies)\")\n",
    "plt.xlabel(\"Average Rating\")\n",
    "plt.ylabel(\"Director\")\n",
    "plt.show()"
   ]
  },
  {
   "cell_type": "markdown",
   "id": "e0b8aa66-546b-4dad-b829-c5a590599864",
   "metadata": {},
   "source": [
    "Findings:\n",
    "\n",
    "**Close Competition**: The ratings are closely packed, with most directors averaging between 8.4 and 8.7. This implies that while there might be stylistic or thematic differences in their movies, their overall quality and appeal are comparable."
   ]
  },
  {
   "cell_type": "markdown",
   "id": "82ee44c4-e3d1-464d-8e7f-6439a10122df",
   "metadata": {},
   "source": [
    "### Relationship between movie runtime and its rating"
   ]
  },
  {
   "cell_type": "code",
   "execution_count": null,
   "id": "972424c3-fda5-48a1-bf0e-be90bad0525b",
   "metadata": {},
   "outputs": [],
   "source": [
    "# histogram for the distribution of movie runtimes\n",
    "sns.histplot(movies_df[\"Runtime\"], bins=30, kde=True, color=\"purple\")\n",
    "plt.title(\"Distribution of Movie Runtimes\")\n",
    "plt.xlabel(\"Runtime (minutes)\")\n",
    "plt.ylabel(\"Number of Movies\")\n",
    "plt.show()"
   ]
  },
  {
   "cell_type": "markdown",
   "id": "b466e1af-a288-4952-9152-45459211e313",
   "metadata": {},
   "source": [
    "The distribution of movie runtimes shows that most movies typically have runtimes between 90 and 150 minutes. There are fewer movies with extremely short or extremely long runtimes."
   ]
  },
  {
   "cell_type": "code",
   "execution_count": null,
   "id": "2cec9c02-8bf3-4124-a79d-905e85ee903f",
   "metadata": {},
   "outputs": [],
   "source": [
    "sns.scatterplot(\n",
    "    data=movies_df,\n",
    "    x=\"Runtime\",\n",
    "    y=\"Rating\",\n",
    "    hue=\"Year\",\n",
    "    palette=\"viridis\",\n",
    "    size=\"Year\",\n",
    "    sizes=(20, 200),\n",
    "    alpha=0.7,\n",
    ")\n",
    "plt.title(\"Relationship between Movie Runtime and IMDb Rating\")\n",
    "plt.xlabel(\"Runtime (minutes)\")\n",
    "plt.ylabel(\"Rating\")\n",
    "plt.tight_layout()\n",
    "plt.show()"
   ]
  },
  {
   "cell_type": "markdown",
   "id": "33a0cab1-4864-4449-9fa8-511a0e30000f",
   "metadata": {},
   "source": [
    "Findings:\n",
    "\n",
    "**Broad Range**: Movies in the dataset have a wide range of runtimes, from just over 80 minutes to nearly 230 minutes. However, their ratings mostly hover between 8.4 and 9.3.\n",
    "\n",
    "**No Clear Trend**: There doesn't appear to be a definitive trend between runtime and rating. While some longer movies have higher ratings, others have average ratings similar to shorter films."
   ]
  },
  {
   "cell_type": "markdown",
   "id": "feb31dcc-ba0c-4456-95db-c4c1a25e3a24",
   "metadata": {},
   "source": [
    "### Relationship between stars (actors) and movie ratings"
   ]
  },
  {
   "cell_type": "code",
   "execution_count": null,
   "id": "962d6c2e-8ddf-4e31-9ca8-f8ef96017488",
   "metadata": {},
   "outputs": [],
   "source": [
    "# create a DataFrame with repeated rows for each actor in the 'Stars' column\n",
    "expanded_stars_df = movies_df.explode(\"Stars\").reset_index(drop=True)\n",
    "\n",
    "# group by stars and compute mean rating and count of movies for each star\n",
    "stars_stats = (\n",
    "    expanded_stars_df.groupby(\"Stars\")\n",
    "    .agg({\"Rating\": \"mean\", \"Name\": \"count\"})\n",
    "    .reset_index()\n",
    ")\n",
    "stars_stats.columns = [\"Star\", \"Average Rating\", \"Number of Movies\"]\n",
    "\n",
    "# filter stars with at least 3 movies\n",
    "top_stars = stars_stats[stars_stats[\"Number of Movies\"] >= 3]\n",
    "\n",
    "top_10_stars = top_stars.sort_values(by=\"Average Rating\", ascending=False).head(10)\n",
    "\n",
    "sns.barplot(data=top_10_stars, x=\"Average Rating\", y=\"Star\", palette=\"cubehelix\")\n",
    "plt.title(\"Top 10 Stars with Highest Average Rating (Min. 3 Movies)\")\n",
    "plt.xlabel(\"Average Rating\")\n",
    "plt.ylabel(\"Star\")\n",
    "plt.show()"
   ]
  },
  {
   "cell_type": "markdown",
   "id": "ce3d996e-da22-40f5-88ab-02221be589e3",
   "metadata": {},
   "source": [
    "Findings:\n",
    "\n",
    "**High Average Ratings**: All of the top 10 stars have average ratings above 8, which is notably high. This indicates that these actors have consistently been involved in well-received movies.\n",
    "\n",
    "**Close Competition**: The difference in average ratings among the top stars is minimal. This suggests that the competition is fierce among top-performing actors, and even a slight increase in average ratings can significantly change their rankings."
   ]
  },
  {
   "cell_type": "markdown",
   "id": "654ae9f1-d815-426b-b222-5d91e08d3689",
   "metadata": {},
   "source": [
    "## Conclusion\n",
    "\n",
    "Upon meticulous examination of the IMDb movies dataset, it becomes evident that films exhibit a commendable consistency in quality, irrespective of their year of release. This denotes their sustained resonance with audiences. Notably, while the genre of Drama is prominently represented, the dataset encapsulates a diverse array of genres, each of which garners substantial acclaim from viewers. This diversity is mirrored in the film choices of esteemed actors such as Leonardo DiCaprio and Christian Bale, who have exhibited a broad range in their cinematic selections, both in terms of genre and budget. Directors of repute, including Christopher Nolan and Quentin Tarantino, further enhance the dataset with their consistently high-rated directorial ventures. An intriguing observation is the absence of a discernible correlation between a film's runtime and its subsequent rating, highlighting the primacy of content over duration. "
   ]
  },
  {
   "cell_type": "code",
   "execution_count": null,
   "id": "6295f2c5-6250-438a-8404-db7a72ef5a08",
   "metadata": {},
   "outputs": [],
   "source": []
  }
 ],
 "metadata": {
  "kernelspec": {
   "display_name": "Python 3 (ipykernel)",
   "language": "python",
   "name": "python3"
  },
  "language_info": {
   "codemirror_mode": {
    "name": "ipython",
    "version": 3
   },
   "file_extension": ".py",
   "mimetype": "text/x-python",
   "name": "python",
   "nbconvert_exporter": "python",
   "pygments_lexer": "ipython3",
   "version": "3.10.12"
  }
 },
 "nbformat": 4,
 "nbformat_minor": 5
}
